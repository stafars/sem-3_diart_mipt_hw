{
  "nbformat": 4,
  "nbformat_minor": 0,
  "metadata": {
    "colab": {
      "provenance": [],
      "gpuType": "T4"
    },
    "kernelspec": {
      "name": "python3",
      "display_name": "Python 3"
    },
    "language_info": {
      "name": "python"
    },
    "accelerator": "GPU"
  },
  "cells": [
    {
      "cell_type": "markdown",
      "source": [
        "### Модуль 7. Финансовый аналитик\n",
        "\n",
        "### Цель задания\n",
        "\n",
        "Сегодня ты “Финансовый аналитик” - изучи и проанализируй внутренние финансы компании и финансовые показатели партнеров, конкурентов или стартапов, в которые компания хочет инвестировать.В частности: макроэкономические и микроэкономические условия наряду с фундаментальными показателями компании.Рекомендуй курс действий для руководства по покупке или продаже акций компании, исходя из ее общих показателей и перспектив. Проведи критический анализ архитектуры DataLake.\n",
        "\n",
        "### Навыки\n",
        "\n",
        "|Архитектура|Базы данных|Форматы данных|Инструменты|Коммуникации|\n",
        "|-----------|-----------|--------------|-----------|------------|\n",
        "|Событийная|GreenPlum|DeltaLake|Обучение  с подкреплением AsyncioRED Dagster Стандарт AsyncAPI Безопасность модели|Все отделы компании, банки|\n",
        "\n",
        "\n",
        "### Условия\n",
        "\n",
        "Можно пользоваться любыми языковыми моделями\n",
        "\n",
        "###  Формат сдачи и отправка задания\n",
        "\n",
        "Итоговый блокнот нужно разместить на GitLab либо на GitHub (\"запушить\" в любом формате .py или .ipynb)\n",
        "и поделиться ссылкой на файл (убедившись, что видимости репозитория).\n",
        "\n",
        "###  Сроки выполнения задания\n",
        "\n",
        "Максимум одна неделя, сданные после истечения максимального срока  работы не проверяются.\n",
        "\n",
        "###  Критерии оценивания\n",
        "\n",
        "| Критерий                 | Вес | Описание                                                                                                                                                                                              |\n",
        "|--------------------------|-----|----------------------------------------------------------|\n",
        "| Выбор алгоритма          | 15% | Оценка уместности выбранного алгоритма для данной задачи.|\n",
        "| Точность реализации      | 15% | Оценка корректности реализации алгоритма.                |\n",
        "| Основная функциональность| 20% | Оценка степени выполнения основных требований задания.   |\n",
        "| Обработка крайних случаев| 10% | Оценка кода по обработке граничных входных данных.       |\n",
        "| Документация к коду      | 10% | Оценка ясности и полноты комментариев в коде.            |\n",
        "| Объяснение результатов   | 10% | Оценка четкости объясненния результатов работы кода      |\n",
        "| Стиль кода               | 10% | Оценка читаемости кода и соответствия PEP-8              |\n",
        "| Анализ ошибок и отладка  | 10% | Оценка способности студента выявлять и исправлять ошибки |\n",
        "\n",
        "\n",
        "**Максимальный балл за выполненную домашнюю работу: 10 баллов**\n",
        "\n",
        "**Дополнительные условия оценки:**\n",
        "\n",
        "Можно сдать работу через обычный Google Colab без начисления штрафных баллов и поделиться ссылкой на файл.\n",
        "\n",
        "**Как будет проверяться:**\n",
        "\n",
        "Работа будет проверяться преподавателем вручную в течение максимум одной недели."
      ],
      "metadata": {
        "id": "MlDbbLv8fssG"
      }
    },
    {
      "cell_type": "markdown",
      "source": [
        "### Задание №1\n",
        "\n",
        "Подключи расширение RAPIDS cuDF командой ```%load_ext cudf.pandas``` и измерь ускорение работы pandas на графическом процессоре GPU\n"
      ],
      "metadata": {
        "id": "nU3kqFNSllIg"
      }
    },
    {
      "cell_type": "code",
      "metadata": {
        "id": "B0C8IV5TQnjN"
      },
      "source": [
        "%%capture\n",
        "# установка занимает 3 минуты\n",
        "!git clone https://github.com/rapidsai/rapidsai-csp-utils.git\n",
        "!python rapidsai-csp-utils/colab/pip-install.py\n",
        "!pip install pandas gdown torch torchvision torchaudio --index-url https://download.pytorch.org/whl/cu118"
      ],
      "execution_count": null,
      "outputs": []
    },
    {
      "cell_type": "code",
      "execution_count": 5,
      "metadata": {
        "id": "PmKP-1ii3RLS",
        "colab": {
          "base_uri": "https://localhost:8080/",
          "height": 185
        },
        "outputId": "1da7ab9a-0b2d-4ad0-a6f3-6cb28ee8cd44"
      },
      "outputs": [
        {
          "output_type": "stream",
          "name": "stderr",
          "text": [
            "Downloading...\n",
            "From: https://drive.google.com/uc?export=download&id=1HRajTCSQCaMJea_mrQKeSuI5BeLApgnT\n",
            "To: /content/Stock_Data.zip\n",
            "100%|██████████| 10.1M/10.1M [00:00<00:00, 372MB/s]\n"
          ]
        },
        {
          "output_type": "stream",
          "name": "stdout",
          "text": [
            "Archive:  Stock_Data.zip\n",
            "  inflating: all_stocks_5yr.csv      \n"
          ]
        },
        {
          "output_type": "execute_result",
          "data": {
            "text/plain": [
              "         date   open   high    low  close   volume Name\n",
              "0  2013-02-08  15.07  15.12  14.63  14.75  8407500  AAL"
            ],
            "text/html": [
              "<div>\n",
              "<style scoped>\n",
              "    .dataframe tbody tr th:only-of-type {\n",
              "        vertical-align: middle;\n",
              "    }\n",
              "\n",
              "    .dataframe tbody tr th {\n",
              "        vertical-align: top;\n",
              "    }\n",
              "\n",
              "    .dataframe thead th {\n",
              "        text-align: right;\n",
              "    }\n",
              "</style>\n",
              "<table border=\"1\" class=\"dataframe\">\n",
              "  <thead>\n",
              "    <tr style=\"text-align: right;\">\n",
              "      <th></th>\n",
              "      <th>date</th>\n",
              "      <th>open</th>\n",
              "      <th>high</th>\n",
              "      <th>low</th>\n",
              "      <th>close</th>\n",
              "      <th>volume</th>\n",
              "      <th>Name</th>\n",
              "    </tr>\n",
              "  </thead>\n",
              "  <tbody>\n",
              "    <tr>\n",
              "      <th>0</th>\n",
              "      <td>2013-02-08</td>\n",
              "      <td>15.07</td>\n",
              "      <td>15.12</td>\n",
              "      <td>14.63</td>\n",
              "      <td>14.75</td>\n",
              "      <td>8407500</td>\n",
              "      <td>AAL</td>\n",
              "    </tr>\n",
              "  </tbody>\n",
              "</table>\n",
              "</div>"
            ]
          },
          "metadata": {},
          "execution_count": 5
        }
      ],
      "source": [
        "import cudf\n",
        "import pandas as pd\n",
        "import gdown\n",
        "url = \"https://drive.google.com/uc?export=download&id=1HRajTCSQCaMJea_mrQKeSuI5BeLApgnT\"\n",
        "output = \"Stock_Data.zip\"\n",
        "gdown.download(url, output)\n",
        "!rm /content/all_stocks_5yr.csv -f\n",
        "!unzip Stock_Data.zip\n",
        "df = pd.read_csv(\"/content/all_stocks_5yr.csv\", header = 0, sep = ',')\n",
        "df.head(1)"
      ]
    },
    {
      "cell_type": "code",
      "source": [
        "big_df = pd.concat([df]*250,ignore_index=True);big_df.info() # увеличенный в 250 раз набор данных занял почти всю памть"
      ],
      "metadata": {
        "id": "LPzx0ziWi4LE",
        "colab": {
          "base_uri": "https://localhost:8080/"
        },
        "outputId": "7758db43-6fcd-4ee7-94f4-2e1819a14df7"
      },
      "execution_count": 6,
      "outputs": [
        {
          "output_type": "stream",
          "name": "stdout",
          "text": [
            "<class 'cudf.core.dataframe.DataFrame'>\n",
            "RangeIndex: 154760000 entries, 0 to 154759999\n",
            "Data columns (total 7 columns):\n",
            " #   Column  Dtype\n",
            "---  ------  -----\n",
            " 0   date    object\n",
            " 1   open    float64\n",
            " 2   high    float64\n",
            " 3   low     float64\n",
            " 4   close   float64\n",
            " 5   volume  int64\n",
            " 6   Name    object\n",
            "dtypes: float64(4), int64(1), object(2)\n",
            "memory usage: 8.8+ GB\n"
          ]
        }
      ]
    },
    {
      "cell_type": "code",
      "source": [
        "%%time\n",
        "\n",
        "(big_df\n",
        " .groupby([\"Name\"])\n",
        " .agg({\"close\": \"mean\"})\n",
        " .rename(columns={\"close\": \"mean_close_price\"})\n",
        " .sort_values([\"mean_close_price\"], ascending=False)\n",
        ") #обрабатываем 154 миллиона строк на CPU за 17 сек"
      ],
      "metadata": {
        "colab": {
          "base_uri": "https://localhost:8080/",
          "height": 490
        },
        "id": "TgHp5-ybuRP3",
        "outputId": "97a865e4-8505-4a02-e431-8db80a7d8fbc"
      },
      "execution_count": null,
      "outputs": [
        {
          "output_type": "stream",
          "name": "stdout",
          "text": [
            "CPU times: user 11.2 s, sys: 6.01 s, total: 17.2 s\n",
            "Wall time: 18 s\n"
          ]
        },
        {
          "output_type": "execute_result",
          "data": {
            "text/plain": [
              "       mean_close_price\n",
              "Name                   \n",
              "PCLN        1312.873538\n",
              "GOOG         725.403353\n",
              "GOOGL        682.233847\n",
              "AZO          619.703654\n",
              "AMZN         576.880041\n",
              "...                 ...\n",
              "CHK           13.681326\n",
              "AES           12.340048\n",
              "RF            10.935608\n",
              "HBAN          10.621372\n",
              "AMD            5.601863\n",
              "\n",
              "[505 rows x 1 columns]"
            ],
            "text/html": [
              "\n",
              "  <div id=\"df-c7710bc9-17f4-4a87-bd6c-d47eb6e82e63\" class=\"colab-df-container\">\n",
              "    <div>\n",
              "<style scoped>\n",
              "    .dataframe tbody tr th:only-of-type {\n",
              "        vertical-align: middle;\n",
              "    }\n",
              "\n",
              "    .dataframe tbody tr th {\n",
              "        vertical-align: top;\n",
              "    }\n",
              "\n",
              "    .dataframe thead th {\n",
              "        text-align: right;\n",
              "    }\n",
              "</style>\n",
              "<table border=\"1\" class=\"dataframe\">\n",
              "  <thead>\n",
              "    <tr style=\"text-align: right;\">\n",
              "      <th></th>\n",
              "      <th>mean_close_price</th>\n",
              "    </tr>\n",
              "    <tr>\n",
              "      <th>Name</th>\n",
              "      <th></th>\n",
              "    </tr>\n",
              "  </thead>\n",
              "  <tbody>\n",
              "    <tr>\n",
              "      <th>PCLN</th>\n",
              "      <td>1312.873538</td>\n",
              "    </tr>\n",
              "    <tr>\n",
              "      <th>GOOG</th>\n",
              "      <td>725.403353</td>\n",
              "    </tr>\n",
              "    <tr>\n",
              "      <th>GOOGL</th>\n",
              "      <td>682.233847</td>\n",
              "    </tr>\n",
              "    <tr>\n",
              "      <th>AZO</th>\n",
              "      <td>619.703654</td>\n",
              "    </tr>\n",
              "    <tr>\n",
              "      <th>AMZN</th>\n",
              "      <td>576.880041</td>\n",
              "    </tr>\n",
              "    <tr>\n",
              "      <th>...</th>\n",
              "      <td>...</td>\n",
              "    </tr>\n",
              "    <tr>\n",
              "      <th>CHK</th>\n",
              "      <td>13.681326</td>\n",
              "    </tr>\n",
              "    <tr>\n",
              "      <th>AES</th>\n",
              "      <td>12.340048</td>\n",
              "    </tr>\n",
              "    <tr>\n",
              "      <th>RF</th>\n",
              "      <td>10.935608</td>\n",
              "    </tr>\n",
              "    <tr>\n",
              "      <th>HBAN</th>\n",
              "      <td>10.621372</td>\n",
              "    </tr>\n",
              "    <tr>\n",
              "      <th>AMD</th>\n",
              "      <td>5.601863</td>\n",
              "    </tr>\n",
              "  </tbody>\n",
              "</table>\n",
              "<p>505 rows × 1 columns</p>\n",
              "</div>\n",
              "    <div class=\"colab-df-buttons\">\n",
              "\n",
              "  <div class=\"colab-df-container\">\n",
              "    <button class=\"colab-df-convert\" onclick=\"convertToInteractive('df-c7710bc9-17f4-4a87-bd6c-d47eb6e82e63')\"\n",
              "            title=\"Convert this dataframe to an interactive table.\"\n",
              "            style=\"display:none;\">\n",
              "\n",
              "  <svg xmlns=\"http://www.w3.org/2000/svg\" height=\"24px\" viewBox=\"0 -960 960 960\">\n",
              "    <path d=\"M120-120v-720h720v720H120Zm60-500h600v-160H180v160Zm220 220h160v-160H400v160Zm0 220h160v-160H400v160ZM180-400h160v-160H180v160Zm440 0h160v-160H620v160ZM180-180h160v-160H180v160Zm440 0h160v-160H620v160Z\"/>\n",
              "  </svg>\n",
              "    </button>\n",
              "\n",
              "  <style>\n",
              "    .colab-df-container {\n",
              "      display:flex;\n",
              "      gap: 12px;\n",
              "    }\n",
              "\n",
              "    .colab-df-convert {\n",
              "      background-color: #E8F0FE;\n",
              "      border: none;\n",
              "      border-radius: 50%;\n",
              "      cursor: pointer;\n",
              "      display: none;\n",
              "      fill: #1967D2;\n",
              "      height: 32px;\n",
              "      padding: 0 0 0 0;\n",
              "      width: 32px;\n",
              "    }\n",
              "\n",
              "    .colab-df-convert:hover {\n",
              "      background-color: #E2EBFA;\n",
              "      box-shadow: 0px 1px 2px rgba(60, 64, 67, 0.3), 0px 1px 3px 1px rgba(60, 64, 67, 0.15);\n",
              "      fill: #174EA6;\n",
              "    }\n",
              "\n",
              "    .colab-df-buttons div {\n",
              "      margin-bottom: 4px;\n",
              "    }\n",
              "\n",
              "    [theme=dark] .colab-df-convert {\n",
              "      background-color: #3B4455;\n",
              "      fill: #D2E3FC;\n",
              "    }\n",
              "\n",
              "    [theme=dark] .colab-df-convert:hover {\n",
              "      background-color: #434B5C;\n",
              "      box-shadow: 0px 1px 3px 1px rgba(0, 0, 0, 0.15);\n",
              "      filter: drop-shadow(0px 1px 2px rgba(0, 0, 0, 0.3));\n",
              "      fill: #FFFFFF;\n",
              "    }\n",
              "  </style>\n",
              "\n",
              "    <script>\n",
              "      const buttonEl =\n",
              "        document.querySelector('#df-c7710bc9-17f4-4a87-bd6c-d47eb6e82e63 button.colab-df-convert');\n",
              "      buttonEl.style.display =\n",
              "        google.colab.kernel.accessAllowed ? 'block' : 'none';\n",
              "\n",
              "      async function convertToInteractive(key) {\n",
              "        const element = document.querySelector('#df-c7710bc9-17f4-4a87-bd6c-d47eb6e82e63');\n",
              "        const dataTable =\n",
              "          await google.colab.kernel.invokeFunction('convertToInteractive',\n",
              "                                                    [key], {});\n",
              "        if (!dataTable) return;\n",
              "\n",
              "        const docLinkHtml = 'Like what you see? Visit the ' +\n",
              "          '<a target=\"_blank\" href=https://colab.research.google.com/notebooks/data_table.ipynb>data table notebook</a>'\n",
              "          + ' to learn more about interactive tables.';\n",
              "        element.innerHTML = '';\n",
              "        dataTable['output_type'] = 'display_data';\n",
              "        await google.colab.output.renderOutput(dataTable, element);\n",
              "        const docLink = document.createElement('div');\n",
              "        docLink.innerHTML = docLinkHtml;\n",
              "        element.appendChild(docLink);\n",
              "      }\n",
              "    </script>\n",
              "  </div>\n",
              "\n",
              "\n",
              "    <div id=\"df-31edb73d-5109-4dd9-97e9-b85203f9c9eb\">\n",
              "      <button class=\"colab-df-quickchart\" onclick=\"quickchart('df-31edb73d-5109-4dd9-97e9-b85203f9c9eb')\"\n",
              "                title=\"Suggest charts\"\n",
              "                style=\"display:none;\">\n",
              "\n",
              "<svg xmlns=\"http://www.w3.org/2000/svg\" height=\"24px\"viewBox=\"0 0 24 24\"\n",
              "     width=\"24px\">\n",
              "    <g>\n",
              "        <path d=\"M19 3H5c-1.1 0-2 .9-2 2v14c0 1.1.9 2 2 2h14c1.1 0 2-.9 2-2V5c0-1.1-.9-2-2-2zM9 17H7v-7h2v7zm4 0h-2V7h2v10zm4 0h-2v-4h2v4z\"/>\n",
              "    </g>\n",
              "</svg>\n",
              "      </button>\n",
              "\n",
              "<style>\n",
              "  .colab-df-quickchart {\n",
              "      --bg-color: #E8F0FE;\n",
              "      --fill-color: #1967D2;\n",
              "      --hover-bg-color: #E2EBFA;\n",
              "      --hover-fill-color: #174EA6;\n",
              "      --disabled-fill-color: #AAA;\n",
              "      --disabled-bg-color: #DDD;\n",
              "  }\n",
              "\n",
              "  [theme=dark] .colab-df-quickchart {\n",
              "      --bg-color: #3B4455;\n",
              "      --fill-color: #D2E3FC;\n",
              "      --hover-bg-color: #434B5C;\n",
              "      --hover-fill-color: #FFFFFF;\n",
              "      --disabled-bg-color: #3B4455;\n",
              "      --disabled-fill-color: #666;\n",
              "  }\n",
              "\n",
              "  .colab-df-quickchart {\n",
              "    background-color: var(--bg-color);\n",
              "    border: none;\n",
              "    border-radius: 50%;\n",
              "    cursor: pointer;\n",
              "    display: none;\n",
              "    fill: var(--fill-color);\n",
              "    height: 32px;\n",
              "    padding: 0;\n",
              "    width: 32px;\n",
              "  }\n",
              "\n",
              "  .colab-df-quickchart:hover {\n",
              "    background-color: var(--hover-bg-color);\n",
              "    box-shadow: 0 1px 2px rgba(60, 64, 67, 0.3), 0 1px 3px 1px rgba(60, 64, 67, 0.15);\n",
              "    fill: var(--button-hover-fill-color);\n",
              "  }\n",
              "\n",
              "  .colab-df-quickchart-complete:disabled,\n",
              "  .colab-df-quickchart-complete:disabled:hover {\n",
              "    background-color: var(--disabled-bg-color);\n",
              "    fill: var(--disabled-fill-color);\n",
              "    box-shadow: none;\n",
              "  }\n",
              "\n",
              "  .colab-df-spinner {\n",
              "    border: 2px solid var(--fill-color);\n",
              "    border-color: transparent;\n",
              "    border-bottom-color: var(--fill-color);\n",
              "    animation:\n",
              "      spin 1s steps(1) infinite;\n",
              "  }\n",
              "\n",
              "  @keyframes spin {\n",
              "    0% {\n",
              "      border-color: transparent;\n",
              "      border-bottom-color: var(--fill-color);\n",
              "      border-left-color: var(--fill-color);\n",
              "    }\n",
              "    20% {\n",
              "      border-color: transparent;\n",
              "      border-left-color: var(--fill-color);\n",
              "      border-top-color: var(--fill-color);\n",
              "    }\n",
              "    30% {\n",
              "      border-color: transparent;\n",
              "      border-left-color: var(--fill-color);\n",
              "      border-top-color: var(--fill-color);\n",
              "      border-right-color: var(--fill-color);\n",
              "    }\n",
              "    40% {\n",
              "      border-color: transparent;\n",
              "      border-right-color: var(--fill-color);\n",
              "      border-top-color: var(--fill-color);\n",
              "    }\n",
              "    60% {\n",
              "      border-color: transparent;\n",
              "      border-right-color: var(--fill-color);\n",
              "    }\n",
              "    80% {\n",
              "      border-color: transparent;\n",
              "      border-right-color: var(--fill-color);\n",
              "      border-bottom-color: var(--fill-color);\n",
              "    }\n",
              "    90% {\n",
              "      border-color: transparent;\n",
              "      border-bottom-color: var(--fill-color);\n",
              "    }\n",
              "  }\n",
              "</style>\n",
              "\n",
              "      <script>\n",
              "        async function quickchart(key) {\n",
              "          const quickchartButtonEl =\n",
              "            document.querySelector('#' + key + ' button');\n",
              "          quickchartButtonEl.disabled = true;  // To prevent multiple clicks.\n",
              "          quickchartButtonEl.classList.add('colab-df-spinner');\n",
              "          try {\n",
              "            const charts = await google.colab.kernel.invokeFunction(\n",
              "                'suggestCharts', [key], {});\n",
              "          } catch (error) {\n",
              "            console.error('Error during call to suggestCharts:', error);\n",
              "          }\n",
              "          quickchartButtonEl.classList.remove('colab-df-spinner');\n",
              "          quickchartButtonEl.classList.add('colab-df-quickchart-complete');\n",
              "        }\n",
              "        (() => {\n",
              "          let quickchartButtonEl =\n",
              "            document.querySelector('#df-31edb73d-5109-4dd9-97e9-b85203f9c9eb button');\n",
              "          quickchartButtonEl.style.display =\n",
              "            google.colab.kernel.accessAllowed ? 'block' : 'none';\n",
              "        })();\n",
              "      </script>\n",
              "    </div>\n",
              "    </div>\n",
              "  </div>\n"
            ],
            "application/vnd.google.colaboratory.intrinsic+json": {
              "type": "dataframe",
              "summary": "{\n  \"name\": \"get_ipython()\",\n  \"rows\": 505,\n  \"fields\": [\n    {\n      \"column\": \"Name\",\n      \"properties\": {\n        \"dtype\": \"string\",\n        \"num_unique_values\": 505,\n        \"samples\": [\n          \"OXY\",\n          \"BAX\",\n          \"HPE\"\n        ],\n        \"semantic_type\": \"\",\n        \"description\": \"\"\n      }\n    },\n    {\n      \"column\": \"mean_close_price\",\n      \"properties\": {\n        \"dtype\": \"number\",\n        \"std\": 91.99386298946243,\n        \"min\": 5.6018625893566325,\n        \"max\": 1312.8735377283558,\n        \"num_unique_values\": 505,\n        \"samples\": [\n          78.61292692613185,\n          59.334718030182685,\n          18.030877796901894\n        ],\n        \"semantic_type\": \"\",\n        \"description\": \"\"\n      }\n    }\n  ]\n}"
            }
          },
          "metadata": {},
          "execution_count": 33
        }
      ]
    },
    {
      "cell_type": "code",
      "source": [
        "# Подключаем расширение для ускорения pandas с помощью cuDF\n",
        "%load_ext cudf.pandas"
      ],
      "metadata": {
        "id": "CMzphnkikTF6"
      },
      "execution_count": 4,
      "outputs": []
    },
    {
      "cell_type": "code",
      "source": [
        "import torch\n",
        "\n",
        "print(f\"Доступно GPU: {torch.cuda.is_available()}\")\n",
        "print(f\"Количество GPU: {torch.cuda.device_count()}\")\n",
        "print(f\"Имя GPU: {torch.cuda.get_device_name()}\")"
      ],
      "metadata": {
        "colab": {
          "base_uri": "https://localhost:8080/"
        },
        "id": "0znXPiqCwsmH",
        "outputId": "960e76b9-adcd-4c9f-addf-a8f9586504dc"
      },
      "execution_count": 9,
      "outputs": [
        {
          "output_type": "stream",
          "name": "stdout",
          "text": [
            "Доступно GPU: True\n",
            "Количество GPU: 1\n",
            "Имя GPU: Tesla T4\n"
          ]
        }
      ]
    },
    {
      "cell_type": "code",
      "source": [
        "%%time\n",
        "\n",
        "(big_df\n",
        " .groupby([\"Name\"])\n",
        " .agg({\"close\": \"mean\"})\n",
        " .rename(columns={\"close\": \"mean_close_price\"})\n",
        " .sort_values([\"mean_close_price\"], ascending=False)\n",
        ") #обрабатываем 154 миллиона строк на GPU за 0,4 сек"
      ],
      "metadata": {
        "colab": {
          "base_uri": "https://localhost:8080/",
          "height": 490
        },
        "id": "kxZiKCdVkaBT",
        "outputId": "1b595296-4e3a-4fff-9424-8884319793e0"
      },
      "execution_count": 7,
      "outputs": [
        {
          "output_type": "stream",
          "name": "stdout",
          "text": [
            "CPU times: user 186 ms, sys: 161 ms, total: 347 ms\n",
            "Wall time: 465 ms\n"
          ]
        },
        {
          "output_type": "execute_result",
          "data": {
            "text/plain": [
              "       mean_close_price\n",
              "Name                   \n",
              "PCLN        1312.873538\n",
              "GOOG         725.403353\n",
              "GOOGL        682.233847\n",
              "AZO          619.703654\n",
              "AMZN         576.880041\n",
              "...                 ...\n",
              "CHK           13.681326\n",
              "AES           12.340048\n",
              "RF            10.935608\n",
              "HBAN          10.621372\n",
              "AMD            5.601863\n",
              "\n",
              "[505 rows x 1 columns]"
            ],
            "text/html": [
              "<div>\n",
              "<style scoped>\n",
              "    .dataframe tbody tr th:only-of-type {\n",
              "        vertical-align: middle;\n",
              "    }\n",
              "\n",
              "    .dataframe tbody tr th {\n",
              "        vertical-align: top;\n",
              "    }\n",
              "\n",
              "    .dataframe thead th {\n",
              "        text-align: right;\n",
              "    }\n",
              "</style>\n",
              "<table border=\"1\" class=\"dataframe\">\n",
              "  <thead>\n",
              "    <tr style=\"text-align: right;\">\n",
              "      <th></th>\n",
              "      <th>mean_close_price</th>\n",
              "    </tr>\n",
              "    <tr>\n",
              "      <th>Name</th>\n",
              "      <th></th>\n",
              "    </tr>\n",
              "  </thead>\n",
              "  <tbody>\n",
              "    <tr>\n",
              "      <th>PCLN</th>\n",
              "      <td>1312.873538</td>\n",
              "    </tr>\n",
              "    <tr>\n",
              "      <th>GOOG</th>\n",
              "      <td>725.403353</td>\n",
              "    </tr>\n",
              "    <tr>\n",
              "      <th>GOOGL</th>\n",
              "      <td>682.233847</td>\n",
              "    </tr>\n",
              "    <tr>\n",
              "      <th>AZO</th>\n",
              "      <td>619.703654</td>\n",
              "    </tr>\n",
              "    <tr>\n",
              "      <th>AMZN</th>\n",
              "      <td>576.880041</td>\n",
              "    </tr>\n",
              "    <tr>\n",
              "      <th>...</th>\n",
              "      <td>...</td>\n",
              "    </tr>\n",
              "    <tr>\n",
              "      <th>CHK</th>\n",
              "      <td>13.681326</td>\n",
              "    </tr>\n",
              "    <tr>\n",
              "      <th>AES</th>\n",
              "      <td>12.340048</td>\n",
              "    </tr>\n",
              "    <tr>\n",
              "      <th>RF</th>\n",
              "      <td>10.935608</td>\n",
              "    </tr>\n",
              "    <tr>\n",
              "      <th>HBAN</th>\n",
              "      <td>10.621372</td>\n",
              "    </tr>\n",
              "    <tr>\n",
              "      <th>AMD</th>\n",
              "      <td>5.601863</td>\n",
              "    </tr>\n",
              "  </tbody>\n",
              "</table>\n",
              "<p>505 rows × 1 columns</p>\n",
              "</div>"
            ]
          },
          "metadata": {},
          "execution_count": 7
        }
      ]
    },
    {
      "cell_type": "markdown",
      "source": [
        "### Задание №2\n",
        "\n",
        "Инжиниринг признаков — это создание новых признаков на основе существующих признаков. Создадим новый признак \"день недели\" из колонки \"date\". Подтверди или опровергни гипотезу о том, что день недели влияет на объём торгов (одной любой акции на свой выбор)"
      ],
      "metadata": {
        "id": "MVYPseq-m6jb"
      }
    },
    {
      "cell_type": "code",
      "source": [
        "df['timestamp'] = pd.to_datetime(df['date'])\n",
        "df['day_of_week'] = df['timestamp'].dt.dayofweek  # Извлекаем день недели (0=понедельник, 6=воскресенье)\n",
        "df.head(1) # датафрейм с новым признаком"
      ],
      "metadata": {
        "id": "vvJylW-4hdxQ",
        "colab": {
          "base_uri": "https://localhost:8080/",
          "height": 81
        },
        "outputId": "b285457a-53fb-458d-f1dc-d434927089f6"
      },
      "execution_count": null,
      "outputs": [
        {
          "output_type": "execute_result",
          "data": {
            "text/plain": [
              "         date   open   high    low  close   volume Name  timestamp  \\\n",
              "0  2013-02-08  15.07  15.12  14.63  14.75  8407500  AAL 2013-02-08   \n",
              "\n",
              "   day_of_week  \n",
              "0            4  "
            ],
            "text/html": [
              "\n",
              "  <div id=\"df-d7cbd919-9239-425c-8fb6-cdfe7ffe79ea\" class=\"colab-df-container\">\n",
              "    <div>\n",
              "<style scoped>\n",
              "    .dataframe tbody tr th:only-of-type {\n",
              "        vertical-align: middle;\n",
              "    }\n",
              "\n",
              "    .dataframe tbody tr th {\n",
              "        vertical-align: top;\n",
              "    }\n",
              "\n",
              "    .dataframe thead th {\n",
              "        text-align: right;\n",
              "    }\n",
              "</style>\n",
              "<table border=\"1\" class=\"dataframe\">\n",
              "  <thead>\n",
              "    <tr style=\"text-align: right;\">\n",
              "      <th></th>\n",
              "      <th>date</th>\n",
              "      <th>open</th>\n",
              "      <th>high</th>\n",
              "      <th>low</th>\n",
              "      <th>close</th>\n",
              "      <th>volume</th>\n",
              "      <th>Name</th>\n",
              "      <th>timestamp</th>\n",
              "      <th>day_of_week</th>\n",
              "    </tr>\n",
              "  </thead>\n",
              "  <tbody>\n",
              "    <tr>\n",
              "      <th>0</th>\n",
              "      <td>2013-02-08</td>\n",
              "      <td>15.07</td>\n",
              "      <td>15.12</td>\n",
              "      <td>14.63</td>\n",
              "      <td>14.75</td>\n",
              "      <td>8407500</td>\n",
              "      <td>AAL</td>\n",
              "      <td>2013-02-08</td>\n",
              "      <td>4</td>\n",
              "    </tr>\n",
              "  </tbody>\n",
              "</table>\n",
              "</div>\n",
              "    <div class=\"colab-df-buttons\">\n",
              "\n",
              "  <div class=\"colab-df-container\">\n",
              "    <button class=\"colab-df-convert\" onclick=\"convertToInteractive('df-d7cbd919-9239-425c-8fb6-cdfe7ffe79ea')\"\n",
              "            title=\"Convert this dataframe to an interactive table.\"\n",
              "            style=\"display:none;\">\n",
              "\n",
              "  <svg xmlns=\"http://www.w3.org/2000/svg\" height=\"24px\" viewBox=\"0 -960 960 960\">\n",
              "    <path d=\"M120-120v-720h720v720H120Zm60-500h600v-160H180v160Zm220 220h160v-160H400v160Zm0 220h160v-160H400v160ZM180-400h160v-160H180v160Zm440 0h160v-160H620v160ZM180-180h160v-160H180v160Zm440 0h160v-160H620v160Z\"/>\n",
              "  </svg>\n",
              "    </button>\n",
              "\n",
              "  <style>\n",
              "    .colab-df-container {\n",
              "      display:flex;\n",
              "      gap: 12px;\n",
              "    }\n",
              "\n",
              "    .colab-df-convert {\n",
              "      background-color: #E8F0FE;\n",
              "      border: none;\n",
              "      border-radius: 50%;\n",
              "      cursor: pointer;\n",
              "      display: none;\n",
              "      fill: #1967D2;\n",
              "      height: 32px;\n",
              "      padding: 0 0 0 0;\n",
              "      width: 32px;\n",
              "    }\n",
              "\n",
              "    .colab-df-convert:hover {\n",
              "      background-color: #E2EBFA;\n",
              "      box-shadow: 0px 1px 2px rgba(60, 64, 67, 0.3), 0px 1px 3px 1px rgba(60, 64, 67, 0.15);\n",
              "      fill: #174EA6;\n",
              "    }\n",
              "\n",
              "    .colab-df-buttons div {\n",
              "      margin-bottom: 4px;\n",
              "    }\n",
              "\n",
              "    [theme=dark] .colab-df-convert {\n",
              "      background-color: #3B4455;\n",
              "      fill: #D2E3FC;\n",
              "    }\n",
              "\n",
              "    [theme=dark] .colab-df-convert:hover {\n",
              "      background-color: #434B5C;\n",
              "      box-shadow: 0px 1px 3px 1px rgba(0, 0, 0, 0.15);\n",
              "      filter: drop-shadow(0px 1px 2px rgba(0, 0, 0, 0.3));\n",
              "      fill: #FFFFFF;\n",
              "    }\n",
              "  </style>\n",
              "\n",
              "    <script>\n",
              "      const buttonEl =\n",
              "        document.querySelector('#df-d7cbd919-9239-425c-8fb6-cdfe7ffe79ea button.colab-df-convert');\n",
              "      buttonEl.style.display =\n",
              "        google.colab.kernel.accessAllowed ? 'block' : 'none';\n",
              "\n",
              "      async function convertToInteractive(key) {\n",
              "        const element = document.querySelector('#df-d7cbd919-9239-425c-8fb6-cdfe7ffe79ea');\n",
              "        const dataTable =\n",
              "          await google.colab.kernel.invokeFunction('convertToInteractive',\n",
              "                                                    [key], {});\n",
              "        if (!dataTable) return;\n",
              "\n",
              "        const docLinkHtml = 'Like what you see? Visit the ' +\n",
              "          '<a target=\"_blank\" href=https://colab.research.google.com/notebooks/data_table.ipynb>data table notebook</a>'\n",
              "          + ' to learn more about interactive tables.';\n",
              "        element.innerHTML = '';\n",
              "        dataTable['output_type'] = 'display_data';\n",
              "        await google.colab.output.renderOutput(dataTable, element);\n",
              "        const docLink = document.createElement('div');\n",
              "        docLink.innerHTML = docLinkHtml;\n",
              "        element.appendChild(docLink);\n",
              "      }\n",
              "    </script>\n",
              "  </div>\n",
              "\n",
              "    </div>\n",
              "  </div>\n"
            ],
            "application/vnd.google.colaboratory.intrinsic+json": {
              "type": "dataframe",
              "variable_name": "df"
            }
          },
          "metadata": {},
          "execution_count": 3
        }
      ]
    },
    {
      "cell_type": "code",
      "source": [
        "# Подгрузка библиотек и разделение выборки\n",
        "\n",
        "import matplotlib.pyplot as plt\n",
        "import seaborn as sns\n",
        "import numpy as np\n",
        "from scipy import stats\n",
        "\n",
        "# Выбираем данные по акции AAL\n",
        "aal_df = df[df['Name'] == 'AAL'].copy()\n",
        "\n",
        "aal_df.head(3)"
      ],
      "metadata": {
        "colab": {
          "base_uri": "https://localhost:8080/",
          "height": 144
        },
        "id": "ZL6bZUHx0ekI",
        "outputId": "3234bd0b-a45d-481d-be0b-94758ee2ada6"
      },
      "execution_count": null,
      "outputs": [
        {
          "output_type": "execute_result",
          "data": {
            "text/plain": [
              "         date   open   high    low  close   volume Name  timestamp  \\\n",
              "0  2013-02-08  15.07  15.12  14.63  14.75  8407500  AAL 2013-02-08   \n",
              "1  2013-02-11  14.89  15.01  14.26  14.46  8882000  AAL 2013-02-11   \n",
              "2  2013-02-12  14.45  14.51  14.10  14.27  8126000  AAL 2013-02-12   \n",
              "\n",
              "   day_of_week  \n",
              "0            4  \n",
              "1            0  \n",
              "2            1  "
            ],
            "text/html": [
              "\n",
              "  <div id=\"df-06969d12-8414-4d53-89eb-b45ceaa35e60\" class=\"colab-df-container\">\n",
              "    <div>\n",
              "<style scoped>\n",
              "    .dataframe tbody tr th:only-of-type {\n",
              "        vertical-align: middle;\n",
              "    }\n",
              "\n",
              "    .dataframe tbody tr th {\n",
              "        vertical-align: top;\n",
              "    }\n",
              "\n",
              "    .dataframe thead th {\n",
              "        text-align: right;\n",
              "    }\n",
              "</style>\n",
              "<table border=\"1\" class=\"dataframe\">\n",
              "  <thead>\n",
              "    <tr style=\"text-align: right;\">\n",
              "      <th></th>\n",
              "      <th>date</th>\n",
              "      <th>open</th>\n",
              "      <th>high</th>\n",
              "      <th>low</th>\n",
              "      <th>close</th>\n",
              "      <th>volume</th>\n",
              "      <th>Name</th>\n",
              "      <th>timestamp</th>\n",
              "      <th>day_of_week</th>\n",
              "    </tr>\n",
              "  </thead>\n",
              "  <tbody>\n",
              "    <tr>\n",
              "      <th>0</th>\n",
              "      <td>2013-02-08</td>\n",
              "      <td>15.07</td>\n",
              "      <td>15.12</td>\n",
              "      <td>14.63</td>\n",
              "      <td>14.75</td>\n",
              "      <td>8407500</td>\n",
              "      <td>AAL</td>\n",
              "      <td>2013-02-08</td>\n",
              "      <td>4</td>\n",
              "    </tr>\n",
              "    <tr>\n",
              "      <th>1</th>\n",
              "      <td>2013-02-11</td>\n",
              "      <td>14.89</td>\n",
              "      <td>15.01</td>\n",
              "      <td>14.26</td>\n",
              "      <td>14.46</td>\n",
              "      <td>8882000</td>\n",
              "      <td>AAL</td>\n",
              "      <td>2013-02-11</td>\n",
              "      <td>0</td>\n",
              "    </tr>\n",
              "    <tr>\n",
              "      <th>2</th>\n",
              "      <td>2013-02-12</td>\n",
              "      <td>14.45</td>\n",
              "      <td>14.51</td>\n",
              "      <td>14.10</td>\n",
              "      <td>14.27</td>\n",
              "      <td>8126000</td>\n",
              "      <td>AAL</td>\n",
              "      <td>2013-02-12</td>\n",
              "      <td>1</td>\n",
              "    </tr>\n",
              "  </tbody>\n",
              "</table>\n",
              "</div>\n",
              "    <div class=\"colab-df-buttons\">\n",
              "\n",
              "  <div class=\"colab-df-container\">\n",
              "    <button class=\"colab-df-convert\" onclick=\"convertToInteractive('df-06969d12-8414-4d53-89eb-b45ceaa35e60')\"\n",
              "            title=\"Convert this dataframe to an interactive table.\"\n",
              "            style=\"display:none;\">\n",
              "\n",
              "  <svg xmlns=\"http://www.w3.org/2000/svg\" height=\"24px\" viewBox=\"0 -960 960 960\">\n",
              "    <path d=\"M120-120v-720h720v720H120Zm60-500h600v-160H180v160Zm220 220h160v-160H400v160Zm0 220h160v-160H400v160ZM180-400h160v-160H180v160Zm440 0h160v-160H620v160ZM180-180h160v-160H180v160Zm440 0h160v-160H620v160Z\"/>\n",
              "  </svg>\n",
              "    </button>\n",
              "\n",
              "  <style>\n",
              "    .colab-df-container {\n",
              "      display:flex;\n",
              "      gap: 12px;\n",
              "    }\n",
              "\n",
              "    .colab-df-convert {\n",
              "      background-color: #E8F0FE;\n",
              "      border: none;\n",
              "      border-radius: 50%;\n",
              "      cursor: pointer;\n",
              "      display: none;\n",
              "      fill: #1967D2;\n",
              "      height: 32px;\n",
              "      padding: 0 0 0 0;\n",
              "      width: 32px;\n",
              "    }\n",
              "\n",
              "    .colab-df-convert:hover {\n",
              "      background-color: #E2EBFA;\n",
              "      box-shadow: 0px 1px 2px rgba(60, 64, 67, 0.3), 0px 1px 3px 1px rgba(60, 64, 67, 0.15);\n",
              "      fill: #174EA6;\n",
              "    }\n",
              "\n",
              "    .colab-df-buttons div {\n",
              "      margin-bottom: 4px;\n",
              "    }\n",
              "\n",
              "    [theme=dark] .colab-df-convert {\n",
              "      background-color: #3B4455;\n",
              "      fill: #D2E3FC;\n",
              "    }\n",
              "\n",
              "    [theme=dark] .colab-df-convert:hover {\n",
              "      background-color: #434B5C;\n",
              "      box-shadow: 0px 1px 3px 1px rgba(0, 0, 0, 0.15);\n",
              "      filter: drop-shadow(0px 1px 2px rgba(0, 0, 0, 0.3));\n",
              "      fill: #FFFFFF;\n",
              "    }\n",
              "  </style>\n",
              "\n",
              "    <script>\n",
              "      const buttonEl =\n",
              "        document.querySelector('#df-06969d12-8414-4d53-89eb-b45ceaa35e60 button.colab-df-convert');\n",
              "      buttonEl.style.display =\n",
              "        google.colab.kernel.accessAllowed ? 'block' : 'none';\n",
              "\n",
              "      async function convertToInteractive(key) {\n",
              "        const element = document.querySelector('#df-06969d12-8414-4d53-89eb-b45ceaa35e60');\n",
              "        const dataTable =\n",
              "          await google.colab.kernel.invokeFunction('convertToInteractive',\n",
              "                                                    [key], {});\n",
              "        if (!dataTable) return;\n",
              "\n",
              "        const docLinkHtml = 'Like what you see? Visit the ' +\n",
              "          '<a target=\"_blank\" href=https://colab.research.google.com/notebooks/data_table.ipynb>data table notebook</a>'\n",
              "          + ' to learn more about interactive tables.';\n",
              "        element.innerHTML = '';\n",
              "        dataTable['output_type'] = 'display_data';\n",
              "        await google.colab.output.renderOutput(dataTable, element);\n",
              "        const docLink = document.createElement('div');\n",
              "        docLink.innerHTML = docLinkHtml;\n",
              "        element.appendChild(docLink);\n",
              "      }\n",
              "    </script>\n",
              "  </div>\n",
              "\n",
              "\n",
              "    <div id=\"df-fb1a9ecb-2769-4668-869c-ec70745f1909\">\n",
              "      <button class=\"colab-df-quickchart\" onclick=\"quickchart('df-fb1a9ecb-2769-4668-869c-ec70745f1909')\"\n",
              "                title=\"Suggest charts\"\n",
              "                style=\"display:none;\">\n",
              "\n",
              "<svg xmlns=\"http://www.w3.org/2000/svg\" height=\"24px\"viewBox=\"0 0 24 24\"\n",
              "     width=\"24px\">\n",
              "    <g>\n",
              "        <path d=\"M19 3H5c-1.1 0-2 .9-2 2v14c0 1.1.9 2 2 2h14c1.1 0 2-.9 2-2V5c0-1.1-.9-2-2-2zM9 17H7v-7h2v7zm4 0h-2V7h2v10zm4 0h-2v-4h2v4z\"/>\n",
              "    </g>\n",
              "</svg>\n",
              "      </button>\n",
              "\n",
              "<style>\n",
              "  .colab-df-quickchart {\n",
              "      --bg-color: #E8F0FE;\n",
              "      --fill-color: #1967D2;\n",
              "      --hover-bg-color: #E2EBFA;\n",
              "      --hover-fill-color: #174EA6;\n",
              "      --disabled-fill-color: #AAA;\n",
              "      --disabled-bg-color: #DDD;\n",
              "  }\n",
              "\n",
              "  [theme=dark] .colab-df-quickchart {\n",
              "      --bg-color: #3B4455;\n",
              "      --fill-color: #D2E3FC;\n",
              "      --hover-bg-color: #434B5C;\n",
              "      --hover-fill-color: #FFFFFF;\n",
              "      --disabled-bg-color: #3B4455;\n",
              "      --disabled-fill-color: #666;\n",
              "  }\n",
              "\n",
              "  .colab-df-quickchart {\n",
              "    background-color: var(--bg-color);\n",
              "    border: none;\n",
              "    border-radius: 50%;\n",
              "    cursor: pointer;\n",
              "    display: none;\n",
              "    fill: var(--fill-color);\n",
              "    height: 32px;\n",
              "    padding: 0;\n",
              "    width: 32px;\n",
              "  }\n",
              "\n",
              "  .colab-df-quickchart:hover {\n",
              "    background-color: var(--hover-bg-color);\n",
              "    box-shadow: 0 1px 2px rgba(60, 64, 67, 0.3), 0 1px 3px 1px rgba(60, 64, 67, 0.15);\n",
              "    fill: var(--button-hover-fill-color);\n",
              "  }\n",
              "\n",
              "  .colab-df-quickchart-complete:disabled,\n",
              "  .colab-df-quickchart-complete:disabled:hover {\n",
              "    background-color: var(--disabled-bg-color);\n",
              "    fill: var(--disabled-fill-color);\n",
              "    box-shadow: none;\n",
              "  }\n",
              "\n",
              "  .colab-df-spinner {\n",
              "    border: 2px solid var(--fill-color);\n",
              "    border-color: transparent;\n",
              "    border-bottom-color: var(--fill-color);\n",
              "    animation:\n",
              "      spin 1s steps(1) infinite;\n",
              "  }\n",
              "\n",
              "  @keyframes spin {\n",
              "    0% {\n",
              "      border-color: transparent;\n",
              "      border-bottom-color: var(--fill-color);\n",
              "      border-left-color: var(--fill-color);\n",
              "    }\n",
              "    20% {\n",
              "      border-color: transparent;\n",
              "      border-left-color: var(--fill-color);\n",
              "      border-top-color: var(--fill-color);\n",
              "    }\n",
              "    30% {\n",
              "      border-color: transparent;\n",
              "      border-left-color: var(--fill-color);\n",
              "      border-top-color: var(--fill-color);\n",
              "      border-right-color: var(--fill-color);\n",
              "    }\n",
              "    40% {\n",
              "      border-color: transparent;\n",
              "      border-right-color: var(--fill-color);\n",
              "      border-top-color: var(--fill-color);\n",
              "    }\n",
              "    60% {\n",
              "      border-color: transparent;\n",
              "      border-right-color: var(--fill-color);\n",
              "    }\n",
              "    80% {\n",
              "      border-color: transparent;\n",
              "      border-right-color: var(--fill-color);\n",
              "      border-bottom-color: var(--fill-color);\n",
              "    }\n",
              "    90% {\n",
              "      border-color: transparent;\n",
              "      border-bottom-color: var(--fill-color);\n",
              "    }\n",
              "  }\n",
              "</style>\n",
              "\n",
              "      <script>\n",
              "        async function quickchart(key) {\n",
              "          const quickchartButtonEl =\n",
              "            document.querySelector('#' + key + ' button');\n",
              "          quickchartButtonEl.disabled = true;  // To prevent multiple clicks.\n",
              "          quickchartButtonEl.classList.add('colab-df-spinner');\n",
              "          try {\n",
              "            const charts = await google.colab.kernel.invokeFunction(\n",
              "                'suggestCharts', [key], {});\n",
              "          } catch (error) {\n",
              "            console.error('Error during call to suggestCharts:', error);\n",
              "          }\n",
              "          quickchartButtonEl.classList.remove('colab-df-spinner');\n",
              "          quickchartButtonEl.classList.add('colab-df-quickchart-complete');\n",
              "        }\n",
              "        (() => {\n",
              "          let quickchartButtonEl =\n",
              "            document.querySelector('#df-fb1a9ecb-2769-4668-869c-ec70745f1909 button');\n",
              "          quickchartButtonEl.style.display =\n",
              "            google.colab.kernel.accessAllowed ? 'block' : 'none';\n",
              "        })();\n",
              "      </script>\n",
              "    </div>\n",
              "    </div>\n",
              "  </div>\n"
            ],
            "application/vnd.google.colaboratory.intrinsic+json": {
              "type": "dataframe",
              "summary": "{\n  \"name\": \"#volume_by_day = aal_df\",\n  \"rows\": 3,\n  \"fields\": [\n    {\n      \"column\": \"date\",\n      \"properties\": {\n        \"dtype\": \"object\",\n        \"num_unique_values\": 3,\n        \"samples\": [\n          \"2013-02-08\",\n          \"2013-02-11\",\n          \"2013-02-12\"\n        ],\n        \"semantic_type\": \"\",\n        \"description\": \"\"\n      }\n    },\n    {\n      \"column\": \"open\",\n      \"properties\": {\n        \"dtype\": \"number\",\n        \"std\": 0.3189566323708189,\n        \"min\": 14.45,\n        \"max\": 15.07,\n        \"num_unique_values\": 3,\n        \"samples\": [\n          15.07,\n          14.89,\n          14.45\n        ],\n        \"semantic_type\": \"\",\n        \"description\": \"\"\n      }\n    },\n    {\n      \"column\": \"high\",\n      \"properties\": {\n        \"dtype\": \"number\",\n        \"std\": 0.32511536414017694,\n        \"min\": 14.51,\n        \"max\": 15.12,\n        \"num_unique_values\": 3,\n        \"samples\": [\n          15.12,\n          15.01,\n          14.51\n        ],\n        \"semantic_type\": \"\",\n        \"description\": \"\"\n      }\n    },\n    {\n      \"column\": \"low\",\n      \"properties\": {\n        \"dtype\": \"number\",\n        \"std\": 0.2718455443813643,\n        \"min\": 14.1,\n        \"max\": 14.63,\n        \"num_unique_values\": 3,\n        \"samples\": [\n          14.63,\n          14.26,\n          14.1\n        ],\n        \"semantic_type\": \"\",\n        \"description\": \"\"\n      }\n    },\n    {\n      \"column\": \"close\",\n      \"properties\": {\n        \"dtype\": \"number\",\n        \"std\": 0.2417298767908787,\n        \"min\": 14.27,\n        \"max\": 14.75,\n        \"num_unique_values\": 3,\n        \"samples\": [\n          14.75,\n          14.46,\n          14.27\n        ],\n        \"semantic_type\": \"\",\n        \"description\": \"\"\n      }\n    },\n    {\n      \"column\": \"volume\",\n      \"properties\": {\n        \"dtype\": \"number\",\n        \"std\": 382083,\n        \"min\": 8126000,\n        \"max\": 8882000,\n        \"num_unique_values\": 3,\n        \"samples\": [\n          8407500,\n          8882000,\n          8126000\n        ],\n        \"semantic_type\": \"\",\n        \"description\": \"\"\n      }\n    },\n    {\n      \"column\": \"Name\",\n      \"properties\": {\n        \"dtype\": \"category\",\n        \"num_unique_values\": 1,\n        \"samples\": [\n          \"AAL\"\n        ],\n        \"semantic_type\": \"\",\n        \"description\": \"\"\n      }\n    },\n    {\n      \"column\": \"timestamp\",\n      \"properties\": {\n        \"dtype\": \"date\",\n        \"min\": \"2013-02-08 00:00:00\",\n        \"max\": \"2013-02-12 00:00:00\",\n        \"num_unique_values\": 3,\n        \"samples\": [\n          \"2013-02-08 00:00:00\"\n        ],\n        \"semantic_type\": \"\",\n        \"description\": \"\"\n      }\n    },\n    {\n      \"column\": \"day_of_week\",\n      \"properties\": {\n        \"dtype\": \"int32\",\n        \"num_unique_values\": 3,\n        \"samples\": [\n          4\n        ],\n        \"semantic_type\": \"\",\n        \"description\": \"\"\n      }\n    }\n  ]\n}"
            }
          },
          "metadata": {},
          "execution_count": 8
        }
      ]
    },
    {
      "cell_type": "code",
      "source": [
        "# Группируем по дню недели и считаем средний объем торгов\n",
        "volume_by_day = aal_df.groupby('day_of_week')['volume'].mean()\n",
        "volume_by_day"
      ],
      "metadata": {
        "colab": {
          "base_uri": "https://localhost:8080/",
          "height": 273
        },
        "id": "2vzZzzRiMIdW",
        "outputId": "7380e444-6b2b-4bf9-a22c-cbbccef3dc92"
      },
      "execution_count": null,
      "outputs": [
        {
          "output_type": "execute_result",
          "data": {
            "text/plain": [
              "day_of_week\n",
              "0    8.622585e+06\n",
              "1    9.378865e+06\n",
              "2    9.484905e+06\n",
              "3    9.311117e+06\n",
              "4    1.010312e+07\n",
              "Name: volume, dtype: float64"
            ],
            "text/html": [
              "<div>\n",
              "<style scoped>\n",
              "    .dataframe tbody tr th:only-of-type {\n",
              "        vertical-align: middle;\n",
              "    }\n",
              "\n",
              "    .dataframe tbody tr th {\n",
              "        vertical-align: top;\n",
              "    }\n",
              "\n",
              "    .dataframe thead th {\n",
              "        text-align: right;\n",
              "    }\n",
              "</style>\n",
              "<table border=\"1\" class=\"dataframe\">\n",
              "  <thead>\n",
              "    <tr style=\"text-align: right;\">\n",
              "      <th></th>\n",
              "      <th>volume</th>\n",
              "    </tr>\n",
              "    <tr>\n",
              "      <th>day_of_week</th>\n",
              "      <th></th>\n",
              "    </tr>\n",
              "  </thead>\n",
              "  <tbody>\n",
              "    <tr>\n",
              "      <th>0</th>\n",
              "      <td>8.622585e+06</td>\n",
              "    </tr>\n",
              "    <tr>\n",
              "      <th>1</th>\n",
              "      <td>9.378865e+06</td>\n",
              "    </tr>\n",
              "    <tr>\n",
              "      <th>2</th>\n",
              "      <td>9.484905e+06</td>\n",
              "    </tr>\n",
              "    <tr>\n",
              "      <th>3</th>\n",
              "      <td>9.311117e+06</td>\n",
              "    </tr>\n",
              "    <tr>\n",
              "      <th>4</th>\n",
              "      <td>1.010312e+07</td>\n",
              "    </tr>\n",
              "  </tbody>\n",
              "</table>\n",
              "</div><br><label><b>dtype:</b> float64</label>"
            ]
          },
          "metadata": {},
          "execution_count": 9
        }
      ]
    },
    {
      "cell_type": "code",
      "source": [
        "# Метки для дней недели в данных\n",
        "days_in_data = sorted(volume_by_day.index)\n",
        "days_labels = ['Пн', 'Вт', 'Ср', 'Чт', 'Пт', 'Сб', 'Вс']\n",
        "available_labels = [days_labels[i] for i in days_in_data]\n",
        "\n",
        "available_labels"
      ],
      "metadata": {
        "colab": {
          "base_uri": "https://localhost:8080/"
        },
        "id": "hFpx_JHyMhQo",
        "outputId": "84cbe9de-ef8c-4edb-c045-b89eef7692fc"
      },
      "execution_count": null,
      "outputs": [
        {
          "output_type": "execute_result",
          "data": {
            "text/plain": [
              "['Пн', 'Вт', 'Ср', 'Чт', 'Пт']"
            ]
          },
          "metadata": {},
          "execution_count": 12
        }
      ]
    },
    {
      "cell_type": "code",
      "source": [
        "# Визуализация\n",
        "plt.figure(figsize=(10, 6))\n",
        "plt.bar(available_labels, volume_by_day.values)\n",
        "plt.title('Средний объем торгов акций AAL по дням недели')\n",
        "plt.xlabel('День недели')\n",
        "plt.ylabel('Средний объем торгов')\n",
        "plt.grid(True, alpha=0.3)\n",
        "plt.show()\n"
      ],
      "metadata": {
        "colab": {
          "base_uri": "https://localhost:8080/",
          "height": 564
        },
        "id": "bHLai5RVM9_Q",
        "outputId": "8a92ffc2-e7ad-4459-9768-cd47e8499fa8"
      },
      "execution_count": null,
      "outputs": [
        {
          "output_type": "display_data",
          "data": {
            "text/plain": [
              "<Figure size 1000x600 with 1 Axes>"
            ],
            "image/png": "[encoded data removed]"
          },
          "metadata": {}
        }
      ]
    },
    {
      "cell_type": "code",
      "source": [
        "# Формирование гипотезы\n",
        "# H0: cредние объёмы торгов не зависят от дня недели\n",
        "# H1: день недели влияет на cредние объёмы торгов"
      ],
      "metadata": {
        "id": "mTlosvhdQl1o"
      },
      "execution_count": null,
      "outputs": []
    },
    {
      "cell_type": "code",
      "source": [
        "volume_per_day = [group['volume'].values for _, group in aal_df.groupby('day_of_week')]\n",
        "\n",
        "# Проводим ANOVA тест\n",
        "f_stat, p_value = stats.f_oneway(*volume_per_day)\n",
        "\n",
        "print(f\"f-stat = {f_stat:.2f}\")\n",
        "print(f\"p-value = {p_value:.4f}\")"
      ],
      "metadata": {
        "colab": {
          "base_uri": "https://localhost:8080/"
        },
        "id": "QnslZA2XOlt4",
        "outputId": "72fa4c28-0a3f-479a-af24-b9c3c86e9b51"
      },
      "execution_count": null,
      "outputs": [
        {
          "output_type": "stream",
          "name": "stdout",
          "text": [
            "f-stat = 1.43\n",
            "p-value = 0.2232\n"
          ]
        }
      ]
    },
    {
      "cell_type": "code",
      "source": [
        "# При p-value = 0.2232 отказываемся от H1 гипотезы (опровергнута, нет статзначимого влияния дня недели)"
      ],
      "metadata": {
        "id": "fk2_dBOPUxiu"
      },
      "execution_count": null,
      "outputs": []
    },
    {
      "cell_type": "markdown",
      "source": [
        "### Задание №3\n",
        "\n",
        "Рассчитай технический индикатор \"полосы Боллинджера\" по имеющимся (хранящимся, статическим) данным"
      ],
      "metadata": {
        "id": "HyeOEFOao4L2"
      }
    },
    {
      "cell_type": "code",
      "source": [
        "#!pip install TA-Lib-Precompiled  numpy==1.26.4 - установка завершается с ошибкой\n",
        "!pip install TA-Lib  numpy==1.26.4"
      ],
      "metadata": {
        "colab": {
          "base_uri": "https://localhost:8080/"
        },
        "id": "uoYUckbV8ot8",
        "outputId": "c51a9f0c-800f-40d3-93bc-13e151778ec7"
      },
      "execution_count": null,
      "outputs": [
        {
          "output_type": "stream",
          "name": "stdout",
          "text": [
            "Requirement already satisfied: TA-Lib in /usr/local/lib/python3.12/dist-packages (0.6.8)\n",
            "Requirement already satisfied: numpy==1.26.4 in /usr/local/lib/python3.12/dist-packages (1.26.4)\n",
            "Requirement already satisfied: build in /usr/local/lib/python3.12/dist-packages (from TA-Lib) (1.3.0)\n",
            "Requirement already satisfied: packaging>=19.1 in /usr/local/lib/python3.12/dist-packages (from build->TA-Lib) (25.0)\n",
            "Requirement already satisfied: pyproject_hooks in /usr/local/lib/python3.12/dist-packages (from build->TA-Lib) (1.2.0)\n"
          ]
        }
      ]
    },
    {
      "cell_type": "code",
      "execution_count": null,
      "metadata": {
        "id": "tA7Qd3KMeawY",
        "colab": {
          "base_uri": "https://localhost:8080/",
          "height": 508
        },
        "outputId": "7eb5ecd0-2ed3-410b-e7e9-62d0869c432f"
      },
      "outputs": [
        {
          "output_type": "display_data",
          "data": {
            "text/plain": [
              "<Figure size 640x480 with 4 Axes>"
            ],
            "image/png": "[encoded data removed]"
          },
          "metadata": {}
        }
      ],
      "source": [
        "import talib\n",
        "import numpy as np\n",
        "from talib import MA_Type\n",
        "import matplotlib.pyplot as plt\n",
        "\n",
        "#print (\"Список всех индикаторов\\n\",\"\\n\".join(talib.get_functions()))\n",
        "\n",
        "df = df[:100]\n",
        "rsi = talib.RSI(np.array(df[\"volume\"], dtype=np.float64))\n",
        "outputSMA = talib.SMA(np.array(df[\"close\"], dtype=np.float64))\n",
        "upper, middle, lower = talib.BBANDS(\n",
        "# построй полосы Боллинджера по массиву np.array(df[\"close\"], dtype=np.float64), используй функцию talib.BBANDS\n",
        "    np.array(df[\"close\"], dtype=np.float64),\n",
        "    timeperiod=5,\n",
        "    nbdevup=2,\n",
        "    nbdevdn=2,\n",
        "    matype=MA_Type.SMA\n",
        ")\n",
        "t = range(0, len(df[\"volume\"]))\n",
        "\n",
        "fig, axs = plt.subplots(4, 1, layout='constrained')\n",
        "axs[0].plot(t, upper+0.03, t, middle,t,lower-0.03)\n",
        "axs[0].set_ylabel('upper, middle, lower')\n",
        "#axs[0].grid(True)\n",
        "plt.suptitle(\"Полосы Боллинджера\")\n",
        "axs[1].plot(range(0, len(df[\"volume\"])),df[\"volume\"])\n",
        "axs[1].set_ylabel('Объём торгов')\n",
        "axs[2].plot(range(0, len(df[\"volume\"])),rsi)\n",
        "axs[2].set_ylabel('RSI')\n",
        "axs[3].plot(range(0, len(df[\"volume\"])),outputSMA)\n",
        "axs[3].set_ylabel('SMA')\n",
        "plt.show()"
      ]
    },
    {
      "cell_type": "markdown",
      "source": [
        "### Задание №4\n",
        "\n",
        "Рассчитай технический индикатор \"скользящая средняя\" по потоковым (только полученным, свежим) данным используя  Streaming API"
      ],
      "metadata": {
        "id": "kwRMhttei4jx"
      }
    },
    {
      "cell_type": "code",
      "source": [
        "%%capture\n",
        "!pip install 'python-engineio==3.14.2'\n",
        "!pip install 'python-socketio==4.3.1'"
      ],
      "metadata": {
        "id": "iZkIz5NbeN3w"
      },
      "execution_count": null,
      "outputs": []
    },
    {
      "cell_type": "code",
      "source": [
        "from talib import stream\n",
        "\n",
        "close = np.array(df[\"close\"], dtype=np.float64)\n",
        "\n",
        "output = talib.SMA(close) # the Function API для статических данных\n",
        "latest = stream.SMA(close) # the Streaming API <- используй потоковый API\n",
        "print (\"статические данные \",output[-1], \", потоковые данные \", latest)"
      ],
      "metadata": {
        "colab": {
          "base_uri": "https://localhost:8080/"
        },
        "id": "hhCu9n167cg0",
        "outputId": "a597559a-a3c3-4b81-c4a6-9cf5d8b52e92"
      },
      "execution_count": null,
      "outputs": [
        {
          "output_type": "stream",
          "name": "stdout",
          "text": [
            "статические данные  17.115999999999996 , потоковые данные  17.116\n"
          ]
        }
      ]
    },
    {
      "cell_type": "code",
      "source": [
        "import socketio\n",
        "import time\n",
        "\n",
        "# standard Python\n",
        "sio = socketio.Client()\n",
        "\n",
        "@sio.event\n",
        "def connect():\n",
        "    print(\"I'm connected!\")\n",
        "    sio.emit('login', {'userKey': 'wsfQsXX90onvUpylWgzQ'})\n",
        "\n",
        "@sio.event\n",
        "def connect_error():\n",
        "    print(\"The connection failed!\")\n",
        "\n",
        "@sio.event\n",
        "def message(data):\n",
        "    print('I received a message!')\n",
        "\n",
        "@sio.on('handshake')\n",
        "def on_message(data):\n",
        "    print('HandShake', data)\n",
        "    sio.emit('symbolSub', {'symbol': 'EURUSD'})\n",
        "\n",
        "@sio.on('price')\n",
        "def on_message(data):\n",
        "    # напиши здесь код, использующий потоковый API stream.SMA\n",
        "\n",
        "    close_prices = []\n",
        "    SMA_PERIOD = 10\n",
        "\n",
        "\n",
        "    try:\n",
        "        # Получаем цену закрытия из потоковых данных\n",
        "        if 'bid' in data and data['bid'] is not None:\n",
        "            current_price = float(data['bid'])\n",
        "\n",
        "            # Добавляем новую цену в список\n",
        "            close_prices.append(current_price)\n",
        "\n",
        "            # Поддерживаем только последние N цен для расчета SMA\n",
        "            if len(close_prices) > SMA_PERIOD:\n",
        "                close_prices.pop(0)  # Удаляем самую старую цену\n",
        "\n",
        "            # Рассчитываем скользящую среднюю на потоковых данных\n",
        "            if len(close_prices) >= SMA_PERIOD:\n",
        "                # Конвертируем в numpy array для использования с TA-Lib\n",
        "                prices_array = np.array(close_prices, dtype=np.float64)\n",
        "\n",
        "                # Используем Streaming API для расчета SMA\n",
        "                current_sma = stream.SMA(prices_array, timeperiod=SMA_PERIOD)\n",
        "\n",
        "                # Выводим результаты\n",
        "                print(f\"Текущая цена: {current_price:.5f}\")\n",
        "                print(f\"Скользящая средняя ({SMA_PERIOD}): {current_sma:.5f}\")\n",
        "\n",
        "                # Торговые сигналы на основе SMA\n",
        "                if current_price > current_sma:\n",
        "                    print(\"Цена выше скользящей средней\")\n",
        "                elif current_price < current_sma:\n",
        "                    print(\"Цена ниже скользящей средней\")\n",
        "                else:\n",
        "                    print(\"Цена на уровне скользящей средней\")\n",
        "\n",
        "                print(\"-\" * 50)\n",
        "\n",
        "            else:\n",
        "                print(f\"Собираем данные... ({len(close_prices)}/{SMA_PERIOD})\")\n",
        "\n",
        "    except Exception as e:\n",
        "        print(f\"Ошибка при обработке данных: {e}\")\n",
        "\n",
        "\n",
        "\n",
        "    # напиши здесь код, использующий потоковый API stream.SMA\n",
        "    print('Price Data ', data)\n",
        "\n",
        "@sio.event\n",
        "def disconnect():\n",
        "    print('disconnected from server')\n",
        "\n",
        "sio.connect('https://marketdata.tradermade.com')\n",
        "time.sleep(30)\n",
        "sio.disconnect()\n",
        "time.sleep(3)\n"
      ],
      "metadata": {
        "colab": {
          "base_uri": "https://localhost:8080/"
        },
        "id": "V8ZFNv-a6Aro",
        "outputId": "db577627-2dfb-4e7a-fd6f-f3389ba862d7"
      },
      "execution_count": null,
      "outputs": [
        {
          "output_type": "stream",
          "name": "stdout",
          "text": [
            "I'm connected!\n"
          ]
        }
      ]
    },
    {
      "cell_type": "code",
      "source": [],
      "metadata": {
        "id": "Va8mo8HZmTaD"
      },
      "execution_count": null,
      "outputs": []
    },
    {
      "cell_type": "markdown",
      "source": [
        "### Задание №5\n",
        "\n",
        "Современный оркестратор Dagster.io даёт возможность **реактивно** запускать следующий этап конвейера данных (при изменении данных предыдущего этапа) используя [Сенсор](https://docs.dagster.io/guides/automate/asset-sensors).\n",
        "\n",
        "Подключи Сенсор к функции daily_sales_data_sensor, реагирующий на изменение \"daily_sales_data\" и запускающий обновление weekly_report"
      ],
      "metadata": {
        "id": "xT8QW2ULuC5b"
      }
    },
    {
      "cell_type": "code",
      "source": [
        "%%capture\n",
        "!pip install dagster dagster-dg-cli"
      ],
      "metadata": {
        "id": "Gx8a8CZlE2Wb"
      },
      "execution_count": null,
      "outputs": []
    },
    {
      "cell_type": "code",
      "source": [
        "import dagster as dg\n",
        "from datetime import datetime\n",
        "\n",
        "@dg.asset(description=\"ежедневный отчёт по стоимости чистых активов ПИФа\")\n",
        "def daily_sales_data(context: dg.AssetExecutionContext):\n",
        "    context.log.info(\"Запускаю ежедневный отчёт СЧА\")\n",
        "    yield dg.MaterializeResult(value=df[-1:][\"close\"].to_list(),metadata={\"отчёт СЧА на дату\": datetime.now().isoformat()})\n",
        "\n",
        "\n",
        "@dg.asset(description=\"еженедельный отчёт по стоимости чистых активов ПИФа\")\n",
        "def weekly_report(context: dg.AssetExecutionContext):\n",
        "    context.log.info(\"Еженедельный отчёт СЧА готов\")\n",
        "    yield dg.MaterializeResult(metadata={\"Еженедельный отчёт СЧА на дату\": datetime.now().isoformat()})\n",
        "\n",
        "\n",
        "my_job = dg.define_asset_job(\"Обновление еженедельного отчёта СЧА\", [weekly_report])\n",
        "\n",
        "#нужно подключить Сенсор к этой функции\n",
        "\n",
        "@dg.asset_sensor(\n",
        "    asset_key=dg.AssetKey(\"daily_sales_data\"),\n",
        "    job=my_job\n",
        ")\n",
        "\n",
        "def daily_sales_data_sensor(context: dg.SensorEvaluationContext, asset_event):\n",
        "    # asset_event передается при материализации daily_sales_data\n",
        "    context.log.info(f\"Обнаружено обновление daily_sales_data: {asset_event}\")\n",
        "\n",
        "    # Запускаем обновление weekly_report\n",
        "    yield dg.RunRequest(\n",
        "        run_key=f\"weekly_report_{asset_event.event_log_entry.timestamp}\",\n",
        "        tags={\n",
        "            \"triggered_by\": \"daily_sales_data_sensor\",\n",
        "            \"source_asset\": \"daily_sales_data\"\n",
        "        }\n",
        "    )\n",
        "\n",
        "\n",
        "print([_ for _ in daily_sales_data(None)],\n",
        "      \"\\n\",\n",
        "[_ for _ in weekly_report(None)])"
      ],
      "metadata": {
        "id": "r79NNSvlZZqa",
        "colab": {
          "base_uri": "https://localhost:8080/"
        },
        "outputId": "e7a3c7c5-471e-457d-a049-e64bb16e75b2"
      },
      "execution_count": null,
      "outputs": [
        {
          "output_type": "stream",
          "name": "stderr",
          "text": [
            "2025-10-26 21:50:47 +0000 - dagster - INFO - system - Запускаю ежедневный отчёт СЧА\n",
            "2025-10-26 21:50:47 +0000 - dagster - INFO - system - Еженедельный отчёт СЧА готов\n"
          ]
        },
        {
          "output_type": "stream",
          "name": "stdout",
          "text": [
            "[MaterializeResult(asset_key=None, metadata={'отчёт СЧА на дату': '2025-10-26T21:50:47.357598'}, check_results=[], data_version=None, tags=None, value=[16.43])] \n",
            " [MaterializeResult(asset_key=None, metadata={'Еженедельный отчёт СЧА на дату': '2025-10-26T21:50:47.430716'}, check_results=[], data_version=None, tags=None, value=<class 'dagster._core.definitions.utils.NoValueSentinel'>)]\n"
          ]
        }
      ]
    }
  ]
}