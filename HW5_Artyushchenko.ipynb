{
  "nbformat": 4,
  "nbformat_minor": 0,
  "metadata": {
    "colab": {
      "provenance": []
    },
    "kernelspec": {
      "name": "python3",
      "display_name": "Python 3"
    },
    "language_info": {
      "name": "python"
    }
  },
  "cells": [
    {
      "cell_type": "markdown",
      "source": [
        "### Модуль 5. Продуктовый аналитик\n",
        "\n",
        "Сегодня твоя задача - создать грамотную продуктовую гипотезу по всем правилам.\n",
        "\n",
        "Пусть твоя онлайн-школа называется **\"Другое\"**. Она на 4-м месте, поскольку из 10 Пб данных часть таблиц используется неправильно, клиентские серверы работают медленно, работа аналитиков разрозненна и неуполрядочена. Сейчас стоит вопрос об инвестициях в большие серверы в надежде, что ситуация исправится.  \n",
        "\n",
        "Пожалуйста, ознакомься со статистикой и предложи как вывести онлайн-школу \"Другое\" на **первое место**."
      ],
      "metadata": {
        "id": "MlDbbLv8fssG"
      }
    },
    {
      "cell_type": "code",
      "source": [
        "%%html\n",
        "                                                                                                                                                                                         <div class='tableauPlaceholder' id='viz1753210471159' style='position: relative'><noscript><a href='#'><img alt='Survey ' src='https:&#47;&#47;public.tableau.com&#47;static&#47;images&#47;20&#47;2024_17276804878150&#47;Survey&#47;1_rss.png' style='border: none' /></a></noscript><object class='tableauViz'  style='display:none;'><param name='host_url' value='https%3A%2F%2Fpublic.tableau.com%2F' /> <param name='embed_code_version' value='3' /> <param name='site_root' value='' /><param name='name' value='2024_17276804878150&#47;Survey' /><param name='tabs' value='no' /><param name='toolbar' value='yes' /><param name='static_image' value='https:&#47;&#47;public.tableau.com&#47;static&#47;images&#47;20&#47;2024_17276804878150&#47;Survey&#47;1.png' /> <param name='animate_transition' value='yes' /><param name='display_static_image' value='yes' /><param name='display_spinner' value='yes' /><param name='display_overlay' value='yes' /><param name='display_count' value='yes' /><param name='language' value='en-US' /></object></div>                <script type='text/javascript'>                    var divElement = document.getElementById('viz1753210471159');                    var vizElement = divElement.getElementsByTagName('object')[0];                    vizElement.style.minWidth='1200px';vizElement.style.maxWidth='1920px';vizElement.style.width='100%';vizElement.style.height='1227px';                    var scriptElement = document.createElement('script');                    scriptElement.src = 'https://public.tableau.com/javascripts/api/viz_v1.js';                    vizElement.parentNode.insertBefore(scriptElement, vizElement);                </script>"
      ],
      "metadata": {
        "colab": {
          "base_uri": "https://localhost:8080/",
          "height": 1000
        },
        "id": "inA3L8q4cjmK",
        "outputId": "369e4aa7-7a25-444a-ca38-bca3bee72a54"
      },
      "execution_count": 1,
      "outputs": [
        {
          "output_type": "display_data",
          "data": {
            "text/plain": [
              "<IPython.core.display.HTML object>"
            ],
            "text/html": [
              "                                                                                                                                                                                         <div class='tableauPlaceholder' id='viz1753210471159' style='position: relative'><noscript><a href='#'><img alt='Survey ' src='https:&#47;&#47;public.tableau.com&#47;static&#47;images&#47;20&#47;2024_17276804878150&#47;Survey&#47;1_rss.png' style='border: none' /></a></noscript><object class='tableauViz'  style='display:none;'><param name='host_url' value='https%3A%2F%2Fpublic.tableau.com%2F' /> <param name='embed_code_version' value='3' /> <param name='site_root' value='' /><param name='name' value='2024_17276804878150&#47;Survey' /><param name='tabs' value='no' /><param name='toolbar' value='yes' /><param name='static_image' value='https:&#47;&#47;public.tableau.com&#47;static&#47;images&#47;20&#47;2024_17276804878150&#47;Survey&#47;1.png' /> <param name='animate_transition' value='yes' /><param name='display_static_image' value='yes' /><param name='display_spinner' value='yes' /><param name='display_overlay' value='yes' /><param name='display_count' value='yes' /><param name='language' value='en-US' /></object></div>                <script type='text/javascript'>                    var divElement = document.getElementById('viz1753210471159');                    var vizElement = divElement.getElementsByTagName('object')[0];                    vizElement.style.minWidth='1200px';vizElement.style.maxWidth='1920px';vizElement.style.width='100%';vizElement.style.height='1227px';                    var scriptElement = document.createElement('script');                    scriptElement.src = 'https://public.tableau.com/javascripts/api/viz_v1.js';                    vizElement.parentNode.insertBefore(scriptElement, vizElement);                </script>\n"
            ]
          },
          "metadata": {}
        }
      ]
    },
    {
      "cell_type": "markdown",
      "source": [
        "### Задание №1\n",
        "\n",
        "Нужно выбрать основные показатели(метрики) продукта и построить пирамиду(иерархию) метрик.\n",
        "\n",
        "Какие метрики ты выберешь для онлайн-школы \"Другое\" ?"
      ],
      "metadata": {
        "id": "nU3kqFNSllIg"
      }
    },
    {
      "cell_type": "code",
      "source": [
        "'''\n",
        "\n",
        "Целевая метрика: NPS\n",
        "\n",
        "  Продуктовые метрики:\n",
        "    - Retention Rate\n",
        "    - Доля успешно заверешенных курсов / выпускников\n",
        "    - LTV: доходность на одного студента\n",
        "    - DAU/WAU/MAU\n",
        "    - Conversion Rate\n",
        "    - CSAT (удовлетворенность пользователей от 1 до 5)\n",
        "\n",
        "  Технические метрики:\n",
        "    - Platform Response Time\n",
        "\n",
        "\n",
        "\n",
        "'''"
      ],
      "metadata": {
        "id": "t3H2PE9hmStk"
      },
      "execution_count": null,
      "outputs": []
    },
    {
      "cell_type": "markdown",
      "source": [
        "### Задание №2\n",
        "\n",
        "\n",
        "Продуктовая гипотеза — это предположение о том, что произойдет с продуктом после внесения определенного изменения. Она помогает определить, как изменение продукта повлияет на пользователей и на бизнес в целом.\n",
        "\n",
        "**Продуктовая гипотеза содержит несколько ключевых элементов, таких как:**\n",
        "\n",
        "* Изменение продукта: что будет изменено или добавлено в продукт.\n",
        "* Целевая аудитория: кто будет использовать измененный продукт и какие проблемы они имеют.\n",
        "* Ожидаемый результат: как изменение продукта повлияет на пользователей и бизнес.\n",
        "\n",
        "Выбери одну бизнес-метрику, одним предложением опиши любое изменение продукта (например, добавить видео в уроки/убрать видео из уроков/добавить графику/убрать графику/ т.д.) для целевой аудитории 25-34 года из России и подробно опиши как вушеупомянутое изменение продукта повлияет на ожидаемый результат (метрику)."
      ],
      "metadata": {
        "id": "MVYPseq-m6jb"
      }
    },
    {
      "cell_type": "markdown",
      "source": [
        "### Продуктовая гипотеза\n",
        "\n",
        "`Бизнес-метрика для улучшения`: Retention Rate на 4-й неделе (M1) + Completion Rate курса\n",
        "\n",
        "`Изменение продукта`:\n",
        "* Саммари-конспекты каждого урока (1-2 минуты ключевых инсайтов) → для фокусировки на важном\n",
        "* Гибкое расписание с возможностью обучения в любое время + вечерние живые сессии → для удобства графика\n",
        "* Трендовые модули на основе анализа вакансий и дефицита навыков на рынке → для мотивации, что это востребовано прямо сейчас\n",
        "* Мини-проекты вместо ДЗ с привязкой к реальным рабочим задачам → для портфолио\n",
        "\n",
        "`Целевая аудитория`: Студенты из России 25-34 лет, работающие full-time, стремящиеся к карьерному росту\n",
        "\n",
        "`Как изменение повлияет на метрику`: Ожидаем рост удержания на 4-й неделе на 15-20% и увеличение Completion Rate на 25%"
      ],
      "metadata": {
        "id": "C7c_SfG4Bdpn"
      }
    },
    {
      "cell_type": "markdown",
      "source": [
        "### Задание №3\n",
        "\n",
        "Количество уникальных пользователей, которые использовали приложение в течение месяца (MAU), недели (WAU) или дня (DAU). Пример для расчета DAU:\n",
        "```sql\n",
        "WITH daily_data AS (\n",
        "  SELECT DATE_TRUNC('day', student_enrolment_date) AS day, user_id\n",
        "  FROM students_events_table_fact\n",
        ")\n",
        "SELECT day, COUNT(DISTINCT user_id) AS DAU\n",
        "FROM daily_data\n",
        "GROUP BY day;\n",
        "```\n",
        "\n",
        "Напиши SQL-запрос для расчёта WAU"
      ],
      "metadata": {
        "id": "HyeOEFOao4L2"
      }
    },
    {
      "cell_type": "markdown",
      "source": [
        "```sql\n",
        "WITH weekly_data AS (\n",
        "  SELECT DATE_TRUNC('week', student_enrolment_date) AS week, user_id\n",
        "  FROM students_events_table_fact\n",
        "  -- Часто для WAU учитывают любое активное действие, а не только зачисление\n",
        "  -- WHERE event_type IN ('lesson_started', 'homework_submitted', ...)\n",
        ")\n",
        "SELECT week, COUNT(DISTINCT user_id) AS WAU\n",
        "FROM weekly_data\n",
        "GROUP BY week\n",
        "ORDER BY week;\n",
        "```"
      ],
      "metadata": {
        "id": "-sa4cFhTdogv"
      }
    },
    {
      "cell_type": "markdown",
      "source": [
        "### Задание №4\n",
        "\n",
        "\n",
        "Ролевое измерение (Role-Playing Dimension) может использоваться по-разному в одной и той же таблице или других таблицах модели данных - это фактически одно и то же измерение, но представленное с разных точек зрения.\n",
        "\n",
        "* Опиши как ты будешь проектировать ролевое измерение \"Дата\", которое одновременно используется как \"Дата зачисления\" и как \"Дата завершения\" в таблице фактов (**students_events_table_fact в задании №4**) о зачислении студента на курс и успешном завершении студентом курса.\n",
        "\n",
        "* Напиши SQL-запрос для создания таблицы ролевого измерения \"Дата\"\n",
        "```sql\n",
        "CREATE TABLE dates_dim\n",
        "```"
      ],
      "metadata": {
        "id": "kwRMhttei4jx"
      }
    },
    {
      "cell_type": "markdown",
      "source": [
        "### Создаем Dimensions (изменения)"
      ],
      "metadata": {
        "id": "HXffIxJLwQ9t"
      }
    },
    {
      "cell_type": "markdown",
      "source": [
        "```sql\n",
        "\n",
        "-- Измерение \"Курсы\" - редко меняется\n",
        "CREATE TABLE courses_dim (\n",
        "    course_id SERIAL PRIMARY KEY,\n",
        "    course_name VARCHAR(200) NOT NULL,\n",
        "    category VARCHAR(100) NOT NULL,\n",
        "    difficulty_level VARCHAR(20),\n",
        "    duration_weeks INTEGER,\n",
        "    base_price_rub DECIMAL(10,2),\n",
        "    is_active BOOLEAN DEFAULT TRUE,\n",
        "    created_date DATE\n",
        ");\n",
        "\n",
        "-- Измерение \"Дата\" - никогда не меняется (ролевое измерение)\n",
        "CREATE TABLE dates_dim (\n",
        "    date_id SERIAL PRIMARY KEY,\n",
        "    actual_date DATE NOT NULL UNIQUE,\n",
        "    day_of_month INTEGER NOT NULL,\n",
        "    month_number INTEGER NOT NULL,\n",
        "    year_number INTEGER NOT NULL,\n",
        "    day_of_week INTEGER NOT NULL,\n",
        "    day_name VARCHAR(20) NOT NULL,\n",
        "    month_name VARCHAR(20) NOT NULL,\n",
        "    is_weekend BOOLEAN NOT NULL,\n",
        "    quarter INTEGER NOT NULL\n",
        ");\n",
        "\n",
        "-- Измерение \"Преподаватели\" - редко меняется\n",
        "CREATE TABLE teachers_dim (\n",
        "    teacher_id SERIAL PRIMARY KEY,\n",
        "    teacher_name VARCHAR(100) NOT NULL,\n",
        "    specialization VARCHAR(100),\n",
        "    experience_years INTEGER\n",
        ");\n",
        "\n",
        "-- Измерение \"Учебные модули\" - редко меняется\n",
        "CREATE TABLE lesson_modules_dim (\n",
        "    module_id SERIAL PRIMARY KEY,\n",
        "    module_name VARCHAR(150) NOT NULL,\n",
        "    module_order INTEGER,\n",
        "    course_id INTEGER REFERENCES dim_courses(course_id)\n",
        ");\n",
        "```"
      ],
      "metadata": {
        "id": "9AdfdEJCwb6e"
      }
    },
    {
      "cell_type": "markdown",
      "source": [
        "### Создаем факты"
      ],
      "metadata": {
        "id": "u4Sa9bNewiLB"
      }
    },
    {
      "cell_type": "markdown",
      "source": [
        "```sql\n",
        "-- Фактовая таблица событий студентов - ЧАСТО меняется\n",
        "CREATE TABLE student_events_fact (\n",
        "    event_id SERIAL PRIMARY KEY,\n",
        "    \n",
        "    -- Ссылки на измерения (редко меняющиеся)\n",
        "    student_id INTEGER NOT NULL,  -- ID студента (часто меняющиеся данные в отдельной системе)\n",
        "    course_id INTEGER REFERENCES dim_courses(course_id),\n",
        "    \n",
        "    -- РОЛЕВОЕ ИЗМЕРЕНИЕ \"Дата\" используется в двух ролях:\n",
        "    enrolment_date_id INTEGER REFERENCES dim_dates(date_id),   -- Роль: \"Дата зачисления\"\n",
        "    completion_date_id INTEGER REFERENCES dim_dates(date_id),  -- Роль: \"Дата завершения\"\n",
        "    \n",
        "    -- Часто меняющиеся показатели (меры)\n",
        "    current_lesson INTEGER,\n",
        "    progress_percentage DECIMAL(5,2),\n",
        "    last_activity_date TIMESTAMP,\n",
        "    total_time_minutes INTEGER,\n",
        "    assignments_completed INTEGER,\n",
        "    current_grade DECIMAL(5,2),\n",
        "    \n",
        "    -- Метаданные\n",
        "    event_timestamp TIMESTAMP DEFAULT CURRENT_TIMESTAMP\n",
        ");\n",
        "\n",
        "-- Фактовая таблица платежей - ЧАСТО меняется\n",
        "CREATE TABLE payments_fact (\n",
        "    payment_id SERIAL PRIMARY KEY,\n",
        "    student_id INTEGER NOT NULL,\n",
        "    course_id INTEGER REFERENCES dim_courses(course_id),\n",
        "    payment_date_id INTEGER REFERENCES dim_dates(date_id),\n",
        "    \n",
        "    -- Часто меняющиеся финансовые показатели\n",
        "    amount_rub DECIMAL(10,2) NOT NULL,\n",
        "    discount_amount DECIMAL(10,2) DEFAULT 0,\n",
        "    payment_status VARCHAR(20),\n",
        "    \n",
        "    created_at TIMESTAMP DEFAULT CURRENT_TIMESTAMP\n",
        ");\n",
        "\n",
        "-- Фактовая таблица прогресса уроков - ЧАСТО меняется\n",
        "CREATE TABLE lesson_progress_fact (\n",
        "    progress_id SERIAL PRIMARY KEY,\n",
        "    student_id INTEGER NOT NULL,\n",
        "    course_id INTEGER REFERENCES dim_courses(course_id),\n",
        "    module_id INTEGER REFERENCES dim_lesson_modules(module_id),\n",
        "    completion_date_id INTEGER REFERENCES dim_dates(date_id),\n",
        "    \n",
        "    -- Часто меняющиеся показатели прогресса\n",
        "    lesson_status VARCHAR(20), -- 'started', 'completed', 'graded'\n",
        "    time_spent_minutes INTEGER,\n",
        "    grade DECIMAL(5,2),\n",
        "    attempts_count INTEGER\n",
        ");\n",
        "```"
      ],
      "metadata": {
        "id": "HkT3LU2Nwp2N"
      }
    },
    {
      "cell_type": "code",
      "source": [],
      "metadata": {
        "id": "Va8mo8HZmTaD"
      },
      "execution_count": 1,
      "outputs": []
    },
    {
      "cell_type": "markdown",
      "source": [
        "### Задание №5\n",
        "\n",
        "Конечно, можно посчитать ARPU (Средний доход с одного пользователя -  показывает среднюю сумму денег, которую каждый пользователь тратит в продукте за месяц) поделив выручку на общее количество пользователей. Но так мы получим малоинформативную метрику с отставанием на 1 месяц.\n",
        "\n",
        "```sql\n",
        "SELECT\n",
        "\tto_char(eventtime, 'YYYY-mm-dd') as \"Дата\",\n",
        "\tsum(priceRUB) as \"Выручка\",\n",
        "\tcount(user_id) as \"К-во зачислений на курсы\",\n",
        "\tcount(distinct user_id) as \"Количество студентов\",\n",
        "\tavg(priceRUB) as \"Средний чек\",\n",
        "\tsum(priceRUB)/count(distinct user_id)) as \"ARPU\"  \n",
        "FROM myproduct.payments\n",
        "WHERE eventtime>=current_date - interval '1 month'\n",
        "AND eventtime < current_date\n",
        "GROUP BY 1\n",
        "```\n",
        "Перепиши неудачный питоновский код, чтобы считать ARPU за предыдущий день и **обязательно** раздели код на \"Слой приложения\" и \"Слой инфраструктуры\" по архитектуре DDD."
      ],
      "metadata": {
        "id": "xT8QW2ULuC5b"
      }
    },
    {
      "cell_type": "markdown",
      "source": [
        "```python\n",
        "query = \"\"\"\n",
        "        SELECT\n",
        "          to_char(eventtime, 'YYYY-mm-dd') as \"Дата\",\n",
        "          sum(priceRUB) as \"Выручка\",\n",
        "          count(user_id) as \"К-во зачислений на курсы\",\n",
        "          count(distinct user_id) as \"Количество студентов\",\n",
        "          avg(priceRUB) as \"Средний чек\",\n",
        "          sum(priceRUB)/count(distinct user_id)) as \"ARPU\"  \n",
        "      FROM myproduct.payments\n",
        "      -- если ClickHouse, то лучше использовать быстрый PREWHERE\n",
        "      WHERE eventtime>=current_date - interval '1 month' -- <- переделай за предыдущий день\n",
        "      AND eventtime < current_date\n",
        "      GROUP BY 1      \n",
        "\"\"\"\n",
        "try:\n",
        "    import psycopg2\n",
        "    print(\"Psycopg2 установлен.\")\n",
        "    connection = psycopg2.connect(\"dbname='db' user='user' password='password' host='localhost'\")\n",
        "except ImportError:\n",
        "    print(\"Psycopg2 не установлен.\")\n",
        "    try:\n",
        "      import pymysql.cursors\n",
        "      connection = pymysql.connect(host='localhost',\n",
        "                                  user='user',\n",
        "                                  password='password',\n",
        "                                  database='db',\n",
        "                                  charset='utf8mb4',\n",
        "                                  cursorclass=pymysql.cursors.DictCursor)\n",
        "    except:\n",
        "      print(\"pymysql не установлен.\")\n",
        "      import clickhouse_connect\n",
        "      client = clickhouse_connect.get_client(host='localhost', username='user', password='password')\n",
        "      result = client.query(query.replace(\"WHERE\", \"PREWHERE\").replace(\"AND\", \"WHERE\")).result_rows\n",
        "      print(result)\n",
        "      exit()\n",
        "\n",
        "with connection:\n",
        "    with connection.cursor() as cursor:\n",
        "        cursor.execute(query)\n",
        "        result = cursor.fetchall()\n",
        "print(result)    \n",
        "```"
      ],
      "metadata": {
        "id": "1fimxHbaSgOs"
      }
    },
    {
      "cell_type": "markdown",
      "source": [
        "# Разделение на слои"
      ],
      "metadata": {
        "id": "ZGvLjNz7xy7_"
      }
    },
    {
      "cell_type": "markdown",
      "source": [
        "### Слой инфраструктуры"
      ],
      "metadata": {
        "id": "P0SAWWW2yDrQ"
      }
    },
    {
      "cell_type": "code",
      "source": [
        "import abc\n",
        "from typing import List, Tuple\n",
        "from datetime import date, timedelta\n",
        "\n",
        "class PaymentRepository(abc.ABC):\n",
        "    # Абстракция\n",
        "\n",
        "    @abc.abstractmethod\n",
        "    def get_daily_revenue_and_users(self, target_date: date) -> Tuple[float, int]:\n",
        "        \"\"\"Возвращает выручку и количество уникальных пользователей за указанный день.\n",
        "        Args:\n",
        "            target_date: Дата, за которую нужны данные.\n",
        "\n",
        "        Returns:\n",
        "            Кортеж (выручка, количество уникальных пользователей).\n",
        "        \"\"\"\n",
        "        pass\n",
        "\n",
        "# Реализация для ClickHouse\n",
        "class ClickHousePaymentRepository(PaymentRepository):\n",
        "\n",
        "    def __init__(self, client):\n",
        "        self.client = client\n",
        "\n",
        "    def get_daily_revenue_and_users(self, target_date: date) -> Tuple[float, int]:\n",
        "        query = \"\"\"\n",
        "        PREWHERE eventtime >= %(target_date)s\n",
        "          AND eventtime < %(target_date)s + INTERVAL 1 DAY\n",
        "        SELECT\n",
        "            sum(priceRUB) as revenue,\n",
        "            count(distinct user_id) as unique_users\n",
        "        FROM myproduct.payments\n",
        "        \"\"\"\n",
        "        params = {'target_date': target_date}\n",
        "        result = self.client.query(query, params).result_rows\n",
        "        # result будет выглядеть как [(revenue, unique_users)]\n",
        "        if result and result[0]:\n",
        "            return float(result[0][0] or 0.0), int(result[0][1] or 0)\n",
        "        return 0.0, 0\n",
        "\n",
        "# Реализация для PostgreSQL\n",
        "class PostgresPaymentRepository(PaymentRepository):\n",
        "\n",
        "    def __init__(self, connection):\n",
        "        self.connection = connection\n",
        "\n",
        "    def get_daily_revenue_and_users(self, target_date: date) -> Tuple[float, int]:\n",
        "        query = \"\"\"\n",
        "        SELECT\n",
        "            COALESCE(sum(priceRUB), 0) as revenue,\n",
        "            COALESCE(count(distinct user_id), 0) as unique_users\n",
        "        FROM myproduct.payments\n",
        "        WHERE eventtime >= %s\n",
        "          AND eventtime < %s + INTERVAL '1 day'\n",
        "        \"\"\"\n",
        "        with self.connection.cursor() as cursor:\n",
        "            cursor.execute(query, (target_date, target_date))\n",
        "            result = cursor.fetchone()\n",
        "            return float(result[0]), int(result[1])"
      ],
      "metadata": {
        "id": "KeN3nvx-xxy7"
      },
      "execution_count": null,
      "outputs": []
    },
    {
      "cell_type": "markdown",
      "source": [
        "### Слой приложения"
      ],
      "metadata": {
        "id": "FDT8giYoyAm-"
      }
    },
    {
      "cell_type": "code",
      "source": [
        "from datetime import date, timedelta\n",
        "from infrastructure.repositories.payment_repository import PaymentRepository\n",
        "\n",
        "class ARPUService:\n",
        "\n",
        "    def __init__(self, payment_repository: PaymentRepository):\n",
        "        self.payment_repository = payment_repository\n",
        "\n",
        "    def calculate_arpu_for_previous_day(self) -> float:\n",
        "        \"\"\"Рассчитывает ARPU за вчерашний день.\"\"\"\n",
        "\n",
        "        previous_day = date.today() - timedelta(days=1)\n",
        "\n",
        "        # Слой приложения использует абстракцию, а не конкретную БД\n",
        "        revenue, unique_users = self.payment_repository.get_daily_revenue_and_users(previous_day)\n",
        "\n",
        "        # Бизнес-логика расчета ARPU\n",
        "        if unique_users > 0:\n",
        "            arpu = revenue / unique_users\n",
        "        else:\n",
        "            arpu = 0.0\n",
        "\n",
        "        print(f\"Дата: {previous_day}\")\n",
        "        print(f\"Выручка: {revenue:.2f} руб.\")\n",
        "        print(f\"Количество студентов: {unique_users}\")\n",
        "        print(f\"ARPU: {arpu:.2f} руб.\")\n",
        "\n",
        "        return arpu"
      ],
      "metadata": {
        "id": "AYiQvVEgx4hc"
      },
      "execution_count": null,
      "outputs": []
    },
    {
      "cell_type": "markdown",
      "source": [
        "### Скрипт для запуска"
      ],
      "metadata": {
        "id": "dHenZKU9x8-8"
      }
    },
    {
      "cell_type": "code",
      "source": [
        "from datetime import date\n",
        "from application.services.arpu_service import ARPUService\n",
        "\n",
        "# Инициализация инфраструктуры (выбор и настройка репозитория)\n",
        "try:\n",
        "    import psycopg2\n",
        "    connection = psycopg2.connect(\"dbname='db' user='user' password='password' host='localhost'\")\n",
        "    from infrastructure.repositories.payment_repository import PostgresPaymentRepository\n",
        "    repository = PostgresPaymentRepository(connection)\n",
        "    print(\"Используется PostgreSQL.\")\n",
        "except ImportError:\n",
        "    print(\"Psycopg2 не установлен. Пробуем ClickHouse...\")\n",
        "    try:\n",
        "        import clickhouse_connect\n",
        "        client = clickhouse_connect.get_client(host='localhost', username='user', password='password')\n",
        "        from infrastructure.repositories.payment_repository import ClickHousePaymentRepository\n",
        "        repository = ClickHousePaymentRepository(client)\n",
        "        print(\"Используется ClickHouse.\")\n",
        "    except ImportError:\n",
        "        print(\"ClickHouse-connect также не установлен.\")\n",
        "        exit()\n",
        "\n",
        "# Внедрение зависимостей в слой приложения\n",
        "arpu_service = ARPUService(payment_repository=repository)\n",
        "\n",
        "# Запуск бизнес-логики\n",
        "arpu = arpu_service.calculate_arpu_for_previous_day()"
      ],
      "metadata": {
        "id": "htBRQ4Axx6pK"
      },
      "execution_count": null,
      "outputs": []
    }
  ]
}